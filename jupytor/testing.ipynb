{
 "cells": [
  {
   "cell_type": "code",
   "execution_count": 1,
   "metadata": {},
   "outputs": [
    {
     "name": "stderr",
     "output_type": "stream",
     "text": [
      "c:\\Users\\ASUS\\anaconda3\\envs\\RS_gradProject\\lib\\site-packages\\sqlalchemy\\engine\\default.py:681: Warning: (1366, \"Incorrect string value: '\\\\xD3\\\\xE6\\\\xD1\\\\xED\\\\xC7 ...' for column 'VARIABLE_VALUE' at row 1\")\n",
      "  cursor.execute(statement, parameters)\n"
     ]
    }
   ],
   "source": [
    "from sqlalchemy import create_engine\n",
    "import pandas as pd\n",
    "URL = 'mysql://{}:{}@{}:{}/{}?charset=utf8mb4'.format('root','saherMysqlSoufan','localhost',3306,'recosys')\n",
    "engine = create_engine(URL, encoding='utf-8')\n",
    "data = pd.read_sql('jobs', con=engine, columns=['id', 'job_title'])\n",
    "dataFrame = pd.DataFrame(data)"
   ]
  },
  {
   "cell_type": "code",
   "execution_count": 2,
   "metadata": {},
   "outputs": [
    {
     "data": {
      "text/html": [
       "<div>\n",
       "<style scoped>\n",
       "    .dataframe tbody tr th:only-of-type {\n",
       "        vertical-align: middle;\n",
       "    }\n",
       "\n",
       "    .dataframe tbody tr th {\n",
       "        vertical-align: top;\n",
       "    }\n",
       "\n",
       "    .dataframe thead th {\n",
       "        text-align: right;\n",
       "    }\n",
       "</style>\n",
       "<table border=\"1\" class=\"dataframe\">\n",
       "  <thead>\n",
       "    <tr style=\"text-align: right;\">\n",
       "      <th></th>\n",
       "      <th>id</th>\n",
       "      <th>job_title</th>\n",
       "    </tr>\n",
       "  </thead>\n",
       "  <tbody>\n",
       "    <tr>\n",
       "      <th>0</th>\n",
       "      <td>0</td>\n",
       "      <td>Commis Chef</td>\n",
       "    </tr>\n",
       "    <tr>\n",
       "      <th>1</th>\n",
       "      <td>1</td>\n",
       "      <td>Corporate Legal Secretary</td>\n",
       "    </tr>\n",
       "    <tr>\n",
       "      <th>2</th>\n",
       "      <td>2</td>\n",
       "      <td>Warehouse Person</td>\n",
       "    </tr>\n",
       "    <tr>\n",
       "      <th>3</th>\n",
       "      <td>3</td>\n",
       "      <td>Legal Secretary / Admin Assistant</td>\n",
       "    </tr>\n",
       "    <tr>\n",
       "      <th>4</th>\n",
       "      <td>4</td>\n",
       "      <td>Category Planner - Pharmaceutical</td>\n",
       "    </tr>\n",
       "  </tbody>\n",
       "</table>\n",
       "</div>"
      ],
      "text/plain": [
       "   id                          job_title\n",
       "0   0                        Commis Chef\n",
       "1   1          Corporate Legal Secretary\n",
       "2   2                   Warehouse Person\n",
       "3   3  Legal Secretary / Admin Assistant\n",
       "4   4  Category Planner - Pharmaceutical"
      ]
     },
     "execution_count": 2,
     "metadata": {},
     "output_type": "execute_result"
    }
   ],
   "source": [
    "dataFrame.head()"
   ]
  },
  {
   "cell_type": "code",
   "execution_count": 45,
   "metadata": {},
   "outputs": [],
   "source": [
    "from sklearn.feature_extraction.text import TfidfVectorizer\n",
    "tfidf = TfidfVectorizer(stop_words='english')\n",
    "tfidfMatrix = tfidf.fit_transform(dataFrame['job_title'])"
   ]
  },
  {
   "cell_type": "code",
   "execution_count": 159,
   "metadata": {},
   "outputs": [],
   "source": [
    "query = \"wood\"\n",
    "tfidfq = tfidf.transform([query])"
   ]
  },
  {
   "cell_type": "code",
   "execution_count": 160,
   "metadata": {},
   "outputs": [
    {
     "data": {
      "text/plain": [
       "array([[0.],\n",
       "       [0.],\n",
       "       [0.],\n",
       "       ...,\n",
       "       [0.],\n",
       "       [0.],\n",
       "       [0.]])"
      ]
     },
     "execution_count": 160,
     "metadata": {},
     "output_type": "execute_result"
    }
   ],
   "source": [
    "from sklearn.metrics.pairwise import linear_kernel\n",
    "import numpy as np \n",
    "resault:np.ndarray = linear_kernel(tfidfMatrix, tfidfq)\n",
    "resault"
   ]
  },
  {
   "cell_type": "code",
   "execution_count": 161,
   "metadata": {},
   "outputs": [
    {
     "name": "stdout",
     "output_type": "stream",
     "text": [
      "1101    1105\n",
      "Name: id, dtype: int64 -- 1101    Wood Machine Operative\n",
      "Name: job_title, dtype: object\n",
      "2651    2682\n",
      "Name: id, dtype: int64 -- 2651    Traditional Wood Machinist\n",
      "Name: job_title, dtype: object\n",
      "3361    3426\n",
      "Name: id, dtype: int64 -- 3361    Team Leader - Cinema - Wood Green\n",
      "Name: job_title, dtype: object\n",
      "6137    6313\n",
      "Name: id, dtype: int64 -- 6137    WAREHOUSE SUPERVISOR (PRODUCTION) - Â£23k - PA...\n",
      "Name: job_title, dtype: object\n",
      "6520    6699\n",
      "Name: id, dtype: int64 -- 6520    WAREHOUSE SUPERVISOR (PICKING & DISPATCH) - Â£...\n",
      "Name: job_title, dtype: object\n",
      "9702    10000\n",
      "Name: id, dtype: int64 -- 9702    Graduate Analyst - Financial Services Executiv...\n",
      "Name: job_title, dtype: object\n",
      "3231    3288\n",
      "Name: id, dtype: int64 -- 3231    HR Administrator\n",
      "Name: job_title, dtype: object\n",
      "3236    3293\n",
      "Name: id, dtype: int64 -- 3236    Banking & Finance Solicitor\n",
      "Name: job_title, dtype: object\n",
      "3235    3292\n",
      "Name: id, dtype: int64 -- 3235    Service Advisor\n",
      "Name: job_title, dtype: object\n",
      "3234    3291\n",
      "Name: id, dtype: int64 -- 3234    Bakery Operative - Newcastle Upon Tyne\n",
      "Name: job_title, dtype: object\n"
     ]
    }
   ],
   "source": [
    "for i in resault.argsort(axis=0)[-10:][::-1]:\n",
    "    print(dataFrame.iloc[i,0],\"--\",dataFrame.iloc[i,1])\n",
    "    # print(i)"
   ]
  },
  {
   "cell_type": "code",
   "execution_count": 8,
   "metadata": {},
   "outputs": [
    {
     "data": {
      "text/html": [
       "<div>\n",
       "<style scoped>\n",
       "    .dataframe tbody tr th:only-of-type {\n",
       "        vertical-align: middle;\n",
       "    }\n",
       "\n",
       "    .dataframe tbody tr th {\n",
       "        vertical-align: top;\n",
       "    }\n",
       "\n",
       "    .dataframe thead th {\n",
       "        text-align: right;\n",
       "    }\n",
       "</style>\n",
       "<table border=\"1\" class=\"dataframe\">\n",
       "  <thead>\n",
       "    <tr style=\"text-align: right;\">\n",
       "      <th></th>\n",
       "      <th>asd</th>\n",
       "    </tr>\n",
       "  </thead>\n",
       "  <tbody>\n",
       "    <tr>\n",
       "      <th>0</th>\n",
       "      <td>hello saher</td>\n",
       "    </tr>\n",
       "  </tbody>\n",
       "</table>\n",
       "</div>"
      ],
      "text/plain": [
       "           asd\n",
       "0  hello saher"
      ]
     },
     "execution_count": 8,
     "metadata": {},
     "output_type": "execute_result"
    }
   ],
   "source": [
    "import pandas as pd\n",
    "df = pd.DataFrame([\"hello saher\"], columns=['asd'])\n",
    "df"
   ]
  },
  {
   "cell_type": "code",
   "execution_count": 6,
   "metadata": {},
   "outputs": [
    {
     "data": {
      "text/plain": [
       "str"
      ]
     },
     "execution_count": 6,
     "metadata": {},
     "output_type": "execute_result"
    }
   ],
   "source": [
    "type(df.loc[0][0])"
   ]
  },
  {
   "cell_type": "code",
   "execution_count": null,
   "metadata": {},
   "outputs": [],
   "source": []
  }
 ],
 "metadata": {
  "kernelspec": {
   "display_name": "Python 3.7.13 ('RSgradProj')",
   "language": "python",
   "name": "python3"
  },
  "language_info": {
   "codemirror_mode": {
    "name": "ipython",
    "version": 3
   },
   "file_extension": ".py",
   "mimetype": "text/x-python",
   "name": "python",
   "nbconvert_exporter": "python",
   "pygments_lexer": "ipython3",
   "version": "3.7.13"
  },
  "orig_nbformat": 4,
  "vscode": {
   "interpreter": {
    "hash": "531f4f1a485b2af4443540a758d862b76b81e1bf05bd535e79b35da2877daa3b"
   }
  }
 },
 "nbformat": 4,
 "nbformat_minor": 2
}
